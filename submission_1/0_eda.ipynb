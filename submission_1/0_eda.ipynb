{
 "cells": [
  {
   "cell_type": "code",
   "execution_count": 3,
   "id": "3709ef16",
   "metadata": {},
   "outputs": [],
   "source": [
    "import pandas as pd\n",
    "import seaborn as sns\n",
    "import numpy as np "
   ]
  },
  {
   "cell_type": "code",
   "execution_count": 5,
   "id": "4d13fcc1",
   "metadata": {},
   "outputs": [
    {
     "data": {
      "text/html": [
       "<div>\n",
       "<style scoped>\n",
       "    .dataframe tbody tr th:only-of-type {\n",
       "        vertical-align: middle;\n",
       "    }\n",
       "\n",
       "    .dataframe tbody tr th {\n",
       "        vertical-align: top;\n",
       "    }\n",
       "\n",
       "    .dataframe thead th {\n",
       "        text-align: right;\n",
       "    }\n",
       "</style>\n",
       "<table border=\"1\" class=\"dataframe\">\n",
       "  <thead>\n",
       "    <tr style=\"text-align: right;\">\n",
       "      <th></th>\n",
       "      <th>antibody_id</th>\n",
       "      <th>antibody_name</th>\n",
       "      <th>vh_protein_sequence</th>\n",
       "      <th>vl_protein_sequence</th>\n",
       "      <th>light_aligned_aho</th>\n",
       "      <th>heavy_aligned_aho</th>\n",
       "      <th>hc_subtype</th>\n",
       "      <th>lc_subtype</th>\n",
       "      <th>hierarchical_cluster_IgG_isotype_stratified_fold</th>\n",
       "    </tr>\n",
       "  </thead>\n",
       "  <tbody>\n",
       "    <tr>\n",
       "      <th>0</th>\n",
       "      <td>GDPa1-001</td>\n",
       "      <td>abagovomab</td>\n",
       "      <td>QVKLQESGAELARPGASVKLSCKASGYTFTNYWMQWVKQRPGQGLD...</td>\n",
       "      <td>DIELTQSPASLSASVGETVTITCQASENIYSYLAWHQQKQGKSPQL...</td>\n",
       "      <td>DIELTQSPASLSASVGETVTITCQAS--ENIY------SYLAWHQQ...</td>\n",
       "      <td>QVKLQES-GAELARPGASVKLSCKASG-YTFTN-----YWMQWVKQ...</td>\n",
       "      <td>IgG1</td>\n",
       "      <td>Kappa</td>\n",
       "      <td>2</td>\n",
       "    </tr>\n",
       "    <tr>\n",
       "      <th>1</th>\n",
       "      <td>GDPa1-002</td>\n",
       "      <td>abituzumab</td>\n",
       "      <td>QVQLQQSGGELAKPGASVKVSCKASGYTFSSFWMHWVRQAPGQGLE...</td>\n",
       "      <td>DIQMTQSPSSLSASVGDRVTITCRASQDISNYLAWYQQKPGKAPKL...</td>\n",
       "      <td>DIQMTQSPSSLSASVGDRVTITCRAS--QDIS------NYLAWYQQ...</td>\n",
       "      <td>QVQLQQS-GGELAKPGASVKVSCKASG-YTFSS-----FWMHWVRQ...</td>\n",
       "      <td>IgG2</td>\n",
       "      <td>Kappa</td>\n",
       "      <td>0</td>\n",
       "    </tr>\n",
       "    <tr>\n",
       "      <th>2</th>\n",
       "      <td>GDPa1-003</td>\n",
       "      <td>abrezekimab</td>\n",
       "      <td>QVTLKESGPVLVKPTETLTLTCTVSGFSLTNYHVQWIRQPPGKALE...</td>\n",
       "      <td>DIQMTQSPSSLSASVGDRVTITCLASEDISNYLAWYQQKPGKAPKL...</td>\n",
       "      <td>DIQMTQSPSSLSASVGDRVTITCLAS--EDIS------NYLAWYQQ...</td>\n",
       "      <td>QVTLKES-GPVLVKPTETLTLTCTVSG-FSLTN-----YHVQWIRQ...</td>\n",
       "      <td>IgG4</td>\n",
       "      <td>Kappa</td>\n",
       "      <td>2</td>\n",
       "    </tr>\n",
       "    <tr>\n",
       "      <th>3</th>\n",
       "      <td>GDPa1-004</td>\n",
       "      <td>abrilumab</td>\n",
       "      <td>QVQLVQSGAEVKKPGASVKVSCKVSGYTLSDLSIHWVRQAPGKGLE...</td>\n",
       "      <td>DIQMTQSPSSVSASVGDRVTITCRASQGISSWLAWYQQKPGKAPKL...</td>\n",
       "      <td>DIQMTQSPSSVSASVGDRVTITCRAS--QGIS------SWLAWYQQ...</td>\n",
       "      <td>QVQLVQS-GAEVKKPGASVKVSCKVSG-YTLSD-----LSIHWVRQ...</td>\n",
       "      <td>IgG2</td>\n",
       "      <td>Kappa</td>\n",
       "      <td>0</td>\n",
       "    </tr>\n",
       "    <tr>\n",
       "      <th>4</th>\n",
       "      <td>GDPa1-005</td>\n",
       "      <td>adalimumab</td>\n",
       "      <td>EVQLVESGGGLVQPGRSLRLSCAASGFTFDDYAMHWVRQAPGKGLE...</td>\n",
       "      <td>DIQMTQSPSSLSASVGDRVTITCRASQGIRNYLAWYQQKPGKAPKL...</td>\n",
       "      <td>DIQMTQSPSSLSASVGDRVTITCRAS--QGIR------NYLAWYQQ...</td>\n",
       "      <td>EVQLVES-GGGLVQPGRSLRLSCAASG-FTFDD-----YAMHWVRQ...</td>\n",
       "      <td>IgG1</td>\n",
       "      <td>Kappa</td>\n",
       "      <td>0</td>\n",
       "    </tr>\n",
       "  </tbody>\n",
       "</table>\n",
       "</div>"
      ],
      "text/plain": [
       "  antibody_id antibody_name  \\\n",
       "0   GDPa1-001    abagovomab   \n",
       "1   GDPa1-002    abituzumab   \n",
       "2   GDPa1-003   abrezekimab   \n",
       "3   GDPa1-004     abrilumab   \n",
       "4   GDPa1-005    adalimumab   \n",
       "\n",
       "                                 vh_protein_sequence  \\\n",
       "0  QVKLQESGAELARPGASVKLSCKASGYTFTNYWMQWVKQRPGQGLD...   \n",
       "1  QVQLQQSGGELAKPGASVKVSCKASGYTFSSFWMHWVRQAPGQGLE...   \n",
       "2  QVTLKESGPVLVKPTETLTLTCTVSGFSLTNYHVQWIRQPPGKALE...   \n",
       "3  QVQLVQSGAEVKKPGASVKVSCKVSGYTLSDLSIHWVRQAPGKGLE...   \n",
       "4  EVQLVESGGGLVQPGRSLRLSCAASGFTFDDYAMHWVRQAPGKGLE...   \n",
       "\n",
       "                                 vl_protein_sequence  \\\n",
       "0  DIELTQSPASLSASVGETVTITCQASENIYSYLAWHQQKQGKSPQL...   \n",
       "1  DIQMTQSPSSLSASVGDRVTITCRASQDISNYLAWYQQKPGKAPKL...   \n",
       "2  DIQMTQSPSSLSASVGDRVTITCLASEDISNYLAWYQQKPGKAPKL...   \n",
       "3  DIQMTQSPSSVSASVGDRVTITCRASQGISSWLAWYQQKPGKAPKL...   \n",
       "4  DIQMTQSPSSLSASVGDRVTITCRASQGIRNYLAWYQQKPGKAPKL...   \n",
       "\n",
       "                                   light_aligned_aho  \\\n",
       "0  DIELTQSPASLSASVGETVTITCQAS--ENIY------SYLAWHQQ...   \n",
       "1  DIQMTQSPSSLSASVGDRVTITCRAS--QDIS------NYLAWYQQ...   \n",
       "2  DIQMTQSPSSLSASVGDRVTITCLAS--EDIS------NYLAWYQQ...   \n",
       "3  DIQMTQSPSSVSASVGDRVTITCRAS--QGIS------SWLAWYQQ...   \n",
       "4  DIQMTQSPSSLSASVGDRVTITCRAS--QGIR------NYLAWYQQ...   \n",
       "\n",
       "                                   heavy_aligned_aho hc_subtype lc_subtype  \\\n",
       "0  QVKLQES-GAELARPGASVKLSCKASG-YTFTN-----YWMQWVKQ...       IgG1      Kappa   \n",
       "1  QVQLQQS-GGELAKPGASVKVSCKASG-YTFSS-----FWMHWVRQ...       IgG2      Kappa   \n",
       "2  QVTLKES-GPVLVKPTETLTLTCTVSG-FSLTN-----YHVQWIRQ...       IgG4      Kappa   \n",
       "3  QVQLVQS-GAEVKKPGASVKVSCKVSG-YTLSD-----LSIHWVRQ...       IgG2      Kappa   \n",
       "4  EVQLVES-GGGLVQPGRSLRLSCAASG-FTFDD-----YAMHWVRQ...       IgG1      Kappa   \n",
       "\n",
       "   hierarchical_cluster_IgG_isotype_stratified_fold  \n",
       "0                                                 2  \n",
       "1                                                 0  \n",
       "2                                                 2  \n",
       "3                                                 0  \n",
       "4                                                 0  "
      ]
     },
     "execution_count": 5,
     "metadata": {},
     "output_type": "execute_result"
    }
   ],
   "source": [
    "train = pd.read_csv('../data/GDPa1_v1.2_sequences.CSV')\n",
    "train.head()"
   ]
  },
  {
   "cell_type": "code",
   "execution_count": 8,
   "id": "ac5b4470",
   "metadata": {},
   "outputs": [
    {
     "data": {
      "text/plain": [
       "246"
      ]
     },
     "execution_count": 8,
     "metadata": {},
     "output_type": "execute_result"
    }
   ],
   "source": [
    "len(train['antibody_name'].unique())"
   ]
  },
  {
   "cell_type": "code",
   "execution_count": null,
   "id": "76214ec8",
   "metadata": {},
   "outputs": [],
   "source": []
  }
 ],
 "metadata": {
  "kernelspec": {
   "display_name": "Python 3",
   "language": "python",
   "name": "python3"
  },
  "language_info": {
   "codemirror_mode": {
    "name": "ipython",
    "version": 3
   },
   "file_extension": ".py",
   "mimetype": "text/x-python",
   "name": "python",
   "nbconvert_exporter": "python",
   "pygments_lexer": "ipython3",
   "version": "3.13.7"
  }
 },
 "nbformat": 4,
 "nbformat_minor": 5
}
